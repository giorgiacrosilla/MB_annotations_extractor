{
 "cells": [
  {
   "cell_type": "code",
   "execution_count": 37,
   "metadata": {},
   "outputs": [
    {
     "name": "stderr",
     "output_type": "stream",
     "text": [
      "/Users/gspinaci/projects/mb_diaries/MB_annotations_extractor/.venv/lib/python3.13/site-packages/gdown/parse_url.py:48: UserWarning: You specified a Google Drive link that is not the correct link to download a file. You might want to try `--fuzzy` option or the following url: https://drive.google.com/uc?id=None\n",
      "  warnings.warn(\n",
      "Downloading...\n",
      "From: https://docs.google.com/spreadsheets/d/1ymGFVOlGGp2SKvMfTHN7tyF4SAiIX7PTkY8cbRPr7AM/export?format=csv&gid=0\n",
      "To: /Users/gspinaci/projects/mb_diaries/MB_annotations_extractor/evaluation/1/test1.csv\n",
      "249kB [00:00, 13.8MB/s]"
     ]
    },
    {
     "name": "stdout",
     "output_type": "stream",
     "text": [
      "Number of rows: 3543\n",
      "Number of columns: 9\n"
     ]
    },
    {
     "name": "stderr",
     "output_type": "stream",
     "text": [
      "\n"
     ]
    }
   ],
   "source": [
    "import gdown\n",
    "import pandas as pd\n",
    "\n",
    "# Google Sheets URL\n",
    "url = \"https://docs.google.com/spreadsheets/d/1ymGFVOlGGp2SKvMfTHN7tyF4SAiIX7PTkY8cbRPr7AM/export?format=csv&gid=0\"\n",
    "\n",
    "# Download the CSV file\n",
    "output = 'test1.csv'\n",
    "gdown.download(url, output, quiet=False)\n",
    "\n",
    "# Read the CSV file\n",
    "df = pd.read_csv(output)\n",
    "\n",
    "# Check the size of the CSV file\n",
    "print(f\"Number of rows: {df.shape[0]}\")\n",
    "print(f\"Number of columns: {df.shape[1]}\")"
   ]
  },
  {
   "cell_type": "code",
   "execution_count": 38,
   "metadata": {},
   "outputs": [
    {
     "name": "stdout",
     "output_type": "stream",
     "text": [
      "        Diary  counts\n",
      "0   1894-1805       1\n",
      "1   1894-1895     125\n",
      "2   1895-1896     100\n",
      "3   1896-1898       8\n",
      "4   1897-1898      80\n",
      "5   1898-1899      55\n",
      "6   1899-1902     124\n",
      "7   1902-1903      99\n",
      "8   1903-1904     182\n",
      "9        1905     256\n",
      "10       1906     334\n",
      "11       1907     220\n",
      "12       1908     272\n",
      "13       1909      12\n",
      "14       1915     107\n",
      "15       1916      95\n",
      "16       1922     186\n",
      "17       1923     180\n",
      "18       1926       1\n"
     ]
    }
   ],
   "source": [
    "import pandas as pd\n",
    "\n",
    "input_file = 'test1.csv'\n",
    "df = pd.read_csv(input_file)\n",
    "\n",
    "# Aggregate rows by \"Diary metadata\" column and count rows\n",
    "diary_counts = df.groupby('Diary').size().reset_index(name='counts')\n",
    "\n",
    "# Display the result\n",
    "print(diary_counts)\n",
    "\n",
    "# Filter rows where 'Diary metadata' is '1894-1895'\n",
    "diary_1894_1895 = df[df['Diary'] == '1894-1895']"
   ]
  },
  {
   "cell_type": "code",
   "execution_count": 39,
   "metadata": {},
   "outputs": [],
   "source": [
    "import os\n",
    "\n",
    "# Select the required columns\n",
    "diary_1894_1895_filtered = diary_1894_1895[['Page (sequence)', \"Place\", 'Geonames URL']]\n",
    "diary_1894_1895_filtered.columns = ['page', \"value\", 'geonames_url']\n",
    "diary_1894_1895_filtered = diary_1894_1895_filtered[diary_1894_1895_filtered['geonames_url'].notna()]\n",
    "diary_1894_1895_filtered['geonames_url'] = diary_1894_1895_filtered['geonames_url'].str.replace(r'/[^/]*$', '', regex=True)\n",
    "diary_1894_1895_filtered['page'] = diary_1894_1895_filtered['page'].astype(int)\n",
    "\n",
    "gt_path = '1894-95/ground_truth.csv'\n",
    "os.makedirs(os.path.dirname(gt_path), exist_ok=True)\n",
    "diary_1894_1895_filtered.to_csv(gt_path, index=False)"
   ]
  },
  {
   "cell_type": "code",
   "execution_count": 40,
   "metadata": {},
   "outputs": [
    {
     "name": "stdout",
     "output_type": "stream",
     "text": [
      "    page                       value         ground_truth_geonames_url  \\\n",
      "0      5                     Pistoia  https://www.geonames.org/3170621   \n",
      "1     14                   Viareggio  https://www.geonames.org/3164433   \n",
      "13    50                      Urbino  https://www.geonames.org/3165035   \n",
      "14    51                      Urbino  https://www.geonames.org/3165035   \n",
      "15    52                       Cagli  https://www.geonames.org/3181277   \n",
      "16    53                      Gubbio  https://www.geonames.org/3175687   \n",
      "17    57                       Milan  https://www.geonames.org/3173435   \n",
      "19    58                       Zogno  https://www.geonames.org/3163854   \n",
      "20    60                     Bergamo  https://www.geonames.org/3182164   \n",
      "21    60                  Strassburg  https://www.geonames.org/2973783   \n",
      "23    61                  Strassburg  https://www.geonames.org/2973783   \n",
      "27    64                      London  https://www.geonames.org/2643743   \n",
      "28    67                       Paris  https://www.geonames.org/2988507   \n",
      "29    70  Weisser Hirsch bei Dresden  https://www.geonames.org/2811803   \n",
      "30    71                     Dresden  https://www.geonames.org/2935022   \n",
      "31    71                   Spreewald  https://www.geonames.org/2875623   \n",
      "32    71                      Berlin  https://www.geonames.org/2950159   \n",
      "33    71                     Holland  https://www.geonames.org/2750405   \n",
      "34    71                       Paris  https://www.geonames.org/2988507   \n",
      "35    71                      Munich  https://www.geonames.org/2867714   \n",
      "36    75                       Paris  https://www.geonames.org/2988507   \n",
      "45    84                      London  https://www.geonames.org/2643743   \n",
      "46    85                       Reims  https://www.geonames.org/2984114   \n",
      "50    89                        Bâle  https://www.geonames.org/2661604   \n",
      "51    90                       Milan  https://www.geonames.org/3173435   \n",
      "53   138                     Pistoia  https://www.geonames.org/3170621   \n",
      "54   138                       Lucca  https://www.geonames.org/3174530   \n",
      "56   138                        Pisa  https://www.geonames.org/3170647   \n",
      "57   150                        Riva  https://www.geonames.org/3169272   \n",
      "58   150                      Trient  https://www.geonames.org/3165243   \n",
      "59   151                    Sterzing  https://www.geonames.org/3164065   \n",
      "60   152                      Munich  https://www.geonames.org/2867714   \n",
      "62   154                   Kochelsee  https://www.geonames.org/2886920   \n",
      "68   159                       Mainz  https://www.geonames.org/2874225   \n",
      "69   161                       Trier  https://www.geonames.org/2821164   \n",
      "70   163                    Chartres  https://www.geonames.org/3026467   \n",
      "71   164                       Paris  https://www.geonames.org/2988507   \n",
      "72   165                       Paris  https://www.geonames.org/2988507   \n",
      "76   168                       Paris  https://www.geonames.org/2988507   \n",
      "80   176                       Paris  https://www.geonames.org/2988507   \n",
      "81   179                     Avignon  https://www.geonames.org/3035681   \n",
      "82   186                      Savona  https://www.geonames.org/3167022   \n",
      "84   186                        Pisa  https://www.geonames.org/3167022   \n",
      "\n",
      "              predicted_geonames_url  \n",
      "0   https://www.geonames.org/3170621  \n",
      "1   https://www.geonames.org/3164433  \n",
      "13  https://www.geonames.org/3165035  \n",
      "14  https://www.geonames.org/3165035  \n",
      "15  https://www.geonames.org/3181277  \n",
      "16  https://www.geonames.org/3175687  \n",
      "17  https://www.geonames.org/3173435  \n",
      "19  https://www.geonames.org/3163854  \n",
      "20  https://www.geonames.org/3182164  \n",
      "21  https://www.geonames.org/2973783  \n",
      "23  https://www.geonames.org/2973783  \n",
      "27  https://www.geonames.org/2643743  \n",
      "28  https://www.geonames.org/2988507  \n",
      "29  https://www.geonames.org/2813187  \n",
      "30  https://www.geonames.org/2935022  \n",
      "31  https://www.geonames.org/2830098  \n",
      "32  https://www.geonames.org/2950159  \n",
      "33  https://www.geonames.org/2750405  \n",
      "34  https://www.geonames.org/2988507  \n",
      "35  https://www.geonames.org/2867714  \n",
      "36  https://www.geonames.org/2988507  \n",
      "45  https://www.geonames.org/2643743  \n",
      "46  https://www.geonames.org/2984114  \n",
      "50  https://www.geonames.org/2661604  \n",
      "51  https://www.geonames.org/3173435  \n",
      "53  https://www.geonames.org/3170621  \n",
      "54  https://www.geonames.org/3174530  \n",
      "56  https://www.geonames.org/3170647  \n",
      "57  https://www.geonames.org/3169272  \n",
      "58  https://www.geonames.org/3165243  \n",
      "59  https://www.geonames.org/3164065  \n",
      "60  https://www.geonames.org/2867714  \n",
      "62  https://www.geonames.org/2886920  \n",
      "68  https://www.geonames.org/2874225  \n",
      "69  https://www.geonames.org/2821164  \n",
      "70  https://www.geonames.org/3026467  \n",
      "71  https://www.geonames.org/2988507  \n",
      "72  https://www.geonames.org/2988507  \n",
      "76  https://www.geonames.org/2988507  \n",
      "80  https://www.geonames.org/2988507  \n",
      "81  https://www.geonames.org/3035681  \n",
      "82  https://www.geonames.org/3167022  \n",
      "84  https://www.geonames.org/3170647  \n"
     ]
    }
   ],
   "source": [
    "import os\n",
    "import pandas as pd\n",
    "\n",
    "\n",
    "# Load the CSV files\n",
    "predictions = pd.read_csv(os.path.join(os.pardir, 'preprocess', 'predicted_places.csv'))\n",
    "ground_truth = pd.read_csv(gt_path)\n",
    "\n",
    "# Create test_df with rows having matching 'value' and 'page'\n",
    "test_df = pd.merge(\n",
    "  ground_truth[['page', 'value', 'geonames_url']].rename(columns={'geonames_url': 'ground_truth_geonames_url'}),\n",
    "  predictions[['page', 'value', 'geonames_url']].rename(columns={'geonames_url': 'predicted_geonames_url'}),\n",
    "  on=['page', 'value']\n",
    ")\n",
    "\n",
    "# Remove duplicates\n",
    "test_df = test_df.drop_duplicates()\n",
    "\n",
    "# Display the test dataframe\n",
    "print(test_df)\n",
    "\n",
    "test_df.to_csv(os.path.join(\"1894-95\", 'test.csv'), index=False)"
   ]
  },
  {
   "cell_type": "code",
   "execution_count": 41,
   "metadata": {},
   "outputs": [
    {
     "name": "stdout",
     "output_type": "stream",
     "text": [
      "True Positives (TP): 40\n",
      "False Positives (FP): 3\n",
      "False Negatives (FN): 0\n",
      "Precision: 93.02%\n",
      "Recall: 100.00%\n",
      "F1-Score: 96.39%\n"
     ]
    }
   ],
   "source": [
    "# Read the test.csv file\n",
    "test_df = pd.read_csv('1894-95/test.csv')\n",
    "\n",
    "# Calculate True Positives (TP), False Positives (FP), and False Negatives (FN)\n",
    "TP = ((test_df['ground_truth_geonames_url'] == test_df['predicted_geonames_url']) & test_df['ground_truth_geonames_url'].notna()).sum()\n",
    "FP = ((test_df['ground_truth_geonames_url'] != test_df['predicted_geonames_url']) & test_df['predicted_geonames_url'].notna()).sum()\n",
    "FN = ((test_df['ground_truth_geonames_url'].notna()) & (test_df['predicted_geonames_url'].isna())).sum()\n",
    "\n",
    "# Calculate Precision, Recall, and F1-Score\n",
    "precision = TP / (TP + FP) if (TP + FP) > 0 else 0\n",
    "recall = TP / (TP + FN) if (TP + FN) > 0 else 0\n",
    "f1_score = 2 * (precision * recall) / (precision + recall) if (precision + recall) > 0 else 0\n",
    "\n",
    "print(f\"True Positives (TP): {TP}\")\n",
    "print(f\"False Positives (FP): {FP}\")\n",
    "print(f\"False Negatives (FN): {FN}\")\n",
    "print(f\"Precision: {precision * 100:.2f}%\")\n",
    "print(f\"Recall: {recall * 100:.2f}%\")\n",
    "print(f\"F1-Score: {f1_score * 100:.2f}%\")"
   ]
  }
 ],
 "metadata": {
  "kernelspec": {
   "display_name": ".venv",
   "language": "python",
   "name": "python3"
  },
  "language_info": {
   "codemirror_mode": {
    "name": "ipython",
    "version": 3
   },
   "file_extension": ".py",
   "mimetype": "text/x-python",
   "name": "python",
   "nbconvert_exporter": "python",
   "pygments_lexer": "ipython3",
   "version": "3.13.0"
  }
 },
 "nbformat": 4,
 "nbformat_minor": 2
}
