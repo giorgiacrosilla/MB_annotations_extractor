{
 "cells": [
  {
   "cell_type": "code",
   "execution_count": 5,
   "metadata": {},
   "outputs": [
    {
     "name": "stdout",
     "output_type": "stream",
     "text": [
      "Number of files in directory: 1268\n"
     ]
    },
    {
     "name": "stderr",
     "output_type": "stream",
     "text": [
      "/var/folders/cr/vlcyc1td3bb23qpwsjtlbfxw0000gp/T/ipykernel_87856/3473496498.py:27: DeprecationWarning: ConjunctiveGraph is deprecated, use Dataset instead.\n",
      "  g = ConjunctiveGraph()\n"
     ]
    },
    {
     "name": "stdout",
     "output_type": "stream",
     "text": [
      "CSV file created at: ./events.csv\n",
      "Number of events: 445\n",
      "Number of events not containing 'None' in URI: 422\n"
     ]
    }
   ],
   "source": [
    "import os\n",
    "from rdflib import ConjunctiveGraph, term\n",
    "import csv\n",
    "\n",
    "def process_uri(uri):\n",
    "  uri_str = str(uri)\n",
    "  if uri_str.startswith(\"<\") and uri_str.endswith(\">\"):\n",
    "    uri_str = uri_str[1:-1]\n",
    "  if \"http\" in uri_str:\n",
    "    parts = uri_str.split(\"http\")\n",
    "    if len(parts) > 2:\n",
    "      uri_str = \"http\" + parts[-1]\n",
    "  if uri_str.endswith(\"/body/body\"):\n",
    "    uri_str = uri_str.replace(\"/body/body\", \"/body\")\n",
    "  return term.URIRef(uri_str)\n",
    "\n",
    "directory = os.path.join(os.pardir, os.pardir, \"output post disamiguation\")\n",
    "\n",
    "print(f\"Number of files in directory: {len(os.listdir(directory))}\")\n",
    "\n",
    "rows = []\n",
    "\n",
    "for filename in os.listdir(directory):\n",
    "  # Get all events\n",
    "  if filename.endswith(\".trig\") and \"event\" in filename:\n",
    "    file_path = os.path.join(directory, filename)\n",
    "    g = ConjunctiveGraph()\n",
    "    try:\n",
    "      row = {\n",
    "        \"who\": filename\n",
    "      }\n",
    "      # Parse the TRiG\n",
    "      g.parse(file_path, format=\"trig\")\n",
    "      \n",
    "      # Iterate over the triples\n",
    "      for s, p, o in g:\n",
    "        if str(p) == \"http://www.cidoc-crm.org/cidoc-crm/P160_has_temporal_projection\":\n",
    "          row[\"when\"] = process_uri(o)\n",
    "        if str(p) == \"http://www.cidoc-crm.org/cidoc-crm/P161_has_spatial_projection\":\n",
    "          row[\"where\"] = process_uri(o)\n",
    "        \n",
    "      \n",
    "      rows.append(row)\n",
    "\n",
    "    except Exception as e:\n",
    "        print(f\"Error parsing {file_path}: {e}\")\n",
    "        \n",
    "\n",
    "csv_file_path = os.path.join(os.curdir, \"events.csv\")\n",
    "\n",
    "with open(csv_file_path, mode='w', newline='') as csv_file:\n",
    "  fieldnames = [\"when\", \"where\", \"who\"]\n",
    "  writer = csv.DictWriter(csv_file, fieldnames=fieldnames)\n",
    "\n",
    "  writer.writeheader()\n",
    "  for row in rows:\n",
    "    writer.writerow(row)\n",
    "\n",
    "print(f\"CSV file created at: {csv_file_path}\")\n",
    "\n",
    "print(f\"Number of events: {len(rows)}\")\n",
    "non_none_events = [row for row in rows if \"None\" not in str(row.get(\"when\", \"\")) and \"None\" not in str(row.get(\"where\", \"\"))]\n",
    "print(f\"Number of events not containing 'None' in URI: {len(non_none_events)}\")"
   ]
  },
  {
   "cell_type": "code",
   "execution_count": 8,
   "metadata": {},
   "outputs": [
    {
     "name": "stdout",
     "output_type": "stream",
     "text": [
      "Processed entities CSV file created at: ./processed_entities.csv\n"
     ]
    }
   ],
   "source": [
    "import pandas as pd\n",
    "import os\n",
    "import logging\n",
    "from rdflib import Dataset\n",
    "\n",
    "logging.basicConfig(filename=os.path.join(os.curdir, \"error_log.txt\"), level=logging.ERROR)\n",
    "\n",
    "data = pd.read_csv(csv_file_path)\n",
    "non_none_events = data[(data[\"when\"].str.contains(\"http\")) & (data[\"where\"].str.contains(\"http\"))]\n",
    "\n",
    "rows = []\n",
    "\n",
    "for key, event in non_none_events.iterrows():\n",
    "  \n",
    "  file = event[\"who\"].split(\"_\")[0]\n",
    "  for filename in os.listdir(directory):\n",
    "    if filename.startswith(file) and \"event\" not in filename:\n",
    "      ds = Dataset()\n",
    "      try:\n",
    "        ds.parse(os.path.join(directory, filename), format=\"trig\")\n",
    "        \n",
    "        # Iterate over places\n",
    "        same_as = []  \n",
    "        for s, p, o, *rest in ds.quads((term.URIRef(event[\"where\"]), None, None, None)):\n",
    "          if str(p) == \"http://www.w3.org/2002/07/owl#sameAs\":\n",
    "            same_as.append(str(o))\n",
    "        \n",
    "        if len(same_as) > 0:\n",
    "          rows.append({\n",
    "            \"identifier\": event[\"where\"],\n",
    "            \"type\": \"place\",\n",
    "            \"same_as\": same_as,\n",
    "            \"diary\": \"1894-95\",\n",
    "            \"page\": file\n",
    "          })\n",
    "        \n",
    "        # Iterate over dates\n",
    "        same_as = []\n",
    "        for s, p, o, *rest in ds.quads((term.URIRef(event[\"when\"]), None, None, None)):\n",
    "          if str(p) == \"http://www.cidoc-crm.org/cidoc-crm/P181b_begin_of_the_end\":\n",
    "            same_as.append(str(o))\n",
    "        \n",
    "        if len(same_as) > 0:\n",
    "          rows.append({\n",
    "            \"identifier\": event[\"when\"],\n",
    "            \"type\": \"date\",\n",
    "            \"same_as\": same_as,\n",
    "            \"diary\": \"1894-95\",\n",
    "            \"page\": int(file)\n",
    "          })\n",
    "      except Exception as e:\n",
    "        print(f\"Error parsing {filename}: {e}\")\n",
    "        logging.error(filename)\n",
    "   \n",
    "output_csv_file_path = os.path.join(os.curdir, \"processed_entities.csv\")\n",
    "\n",
    "output_df = pd.DataFrame(rows)\n",
    "output_df[\"page\"] = output_df[\"page\"].astype(int)\n",
    "output_df = output_df.sort_values(by=\"page\", ascending=True)\n",
    "output_df.to_csv(output_csv_file_path, index=False)\n",
    "\n",
    "print(f\"Processed entities CSV file created at: {output_csv_file_path}\")\n",
    "\n"
   ]
  },
  {
   "cell_type": "code",
   "execution_count": 9,
   "metadata": {},
   "outputs": [
    {
     "name": "stdout",
     "output_type": "stream",
     "text": [
      "Number of rows with type 'place': 432\n",
      "Number of rows with type 'date': 426\n"
     ]
    }
   ],
   "source": [
    "# Load the processed_entities.csv file\n",
    "processed_entities_df = pd.read_csv(output_csv_file_path)\n",
    "\n",
    "# Get the number of rows with type \"place\"\n",
    "num_place_rows = processed_entities_df[processed_entities_df['type'] == 'place'].shape[0]\n",
    "\n",
    "# Get the number of rows with type \"date\"\n",
    "num_date_rows = processed_entities_df[processed_entities_df['type'] == 'date'].shape[0]\n",
    "\n",
    "print(f\"Number of rows with type 'place': {num_place_rows}\")\n",
    "print(f\"Number of rows with type 'date': {num_date_rows}\")"
   ]
  }
 ],
 "metadata": {
  "kernelspec": {
   "display_name": ".venv",
   "language": "python",
   "name": "python3"
  },
  "language_info": {
   "codemirror_mode": {
    "name": "ipython",
    "version": 3
   },
   "file_extension": ".py",
   "mimetype": "text/x-python",
   "name": "python",
   "nbconvert_exporter": "python",
   "pygments_lexer": "ipython3",
   "version": "3.13.0"
  }
 },
 "nbformat": 4,
 "nbformat_minor": 2
}
